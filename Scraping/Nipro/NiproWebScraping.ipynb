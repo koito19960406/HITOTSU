{
 "metadata": {
  "language_info": {
   "codemirror_mode": {
    "name": "ipython",
    "version": 3
   },
   "file_extension": ".py",
   "mimetype": "text/x-python",
   "name": "python",
   "nbconvert_exporter": "python",
   "pygments_lexer": "ipython3",
   "version": "3.7.4-final"
  },
  "orig_nbformat": 2,
  "kernelspec": {
   "name": "python_defaultSpec_1598619183462",
   "display_name": "Python 3.7.4 64-bit ('base': conda)"
  }
 },
 "nbformat": 4,
 "nbformat_minor": 2,
 "cells": [
  {
   "cell_type": "markdown",
   "metadata": {},
   "source": [
    "# Import Libraries"
   ]
  },
  {
   "cell_type": "code",
   "execution_count": 1,
   "metadata": {},
   "outputs": [],
   "source": [
    "from selenium import webdriver\n",
    "from selenium.webdriver.common.by import By\n",
    "from selenium.webdriver.support.ui import WebDriverWait\n",
    "from selenium.webdriver.support import expected_conditions as EC\n",
    "from selenium.common.exceptions import TimeoutException\n",
    "import datetime\n",
    "import csv\n",
    "import openpyxl\n",
    "from openpyxl import Workbook\n",
    "import re"
   ]
  },
  {
   "cell_type": "markdown",
   "metadata": {},
   "source": [
    "# Create Functions"
   ]
  },
  {
   "cell_type": "markdown",
   "metadata": {},
   "source": [
    "## Scrape info"
   ]
  },
  {
   "cell_type": "code",
   "execution_count": 2,
   "metadata": {},
   "outputs": [],
   "source": [
    "def NiproScraper(year,month,day):\n",
    "    #prepare the input date\n",
    "    year=str(year)\n",
    "    month=str(month)\n",
    "    day=str(day)\n",
    "    input_date=year+'年'+month+'月'+day+'日'\n",
    "\n",
    "    #open chrome in incognito mode\n",
    "    options = webdriver.ChromeOptions()\n",
    "    options.add_argument(' -- incognito')\n",
    "    browser = webdriver.Chrome(chrome_options=options)\n",
    "\n",
    "    # deal with the first \"medical staff?\" question\n",
    "    browser.get('http://med.nipro.co.jp/index')\n",
    "    timeout = 10\n",
    "    try:\n",
    "        WebDriverWait(browser, timeout).until(\n",
    "        EC.visibility_of_element_located(\n",
    "        (By.XPATH, '//*[@id=\"j_id0:j_id16\"]/ul/li[1]/a')\n",
    "        )\n",
    "        )\n",
    "    except TimeoutException:\n",
    "        print('Timed Out Waiting for page to load')\n",
    "        browser.quit()\n",
    "    login_bt=browser.find_element_by_xpath('//*[@id=\"j_id0:j_id16\"]/ul/li[1]/a')\n",
    "    login_bt.click()\n",
    "    browser.implicitly_wait(3)\n",
    "\n",
    "    # activate medical news button\n",
    "    activate_bt=browser.find_element_by_xpath('/html/body/div[1]/div[4]/div[1]/div[1]/div[2]/ul/li[2]/span')\n",
    "    browser.execute_script('arguments[0].click();', activate_bt)\n",
    "\n",
    "    # Get info\n",
    "    # Go to production info section\n",
    "    top_info = browser.find_element_by_xpath('//*[@id=\"j_id0:j_id83\"]/dl')\n",
    "\n",
    "    # Go to the list\n",
    "    date_list=top_info.find_elements_by_css_selector('dt')\n",
    "    news_list=top_info.find_elements_by_css_selector('dd')\n",
    " \n",
    "    # Go through the list\n",
    "    result=[]\n",
    "    date_count=0\n",
    "    for dates in date_list:\n",
    "        # Get URL and title if date == input date\n",
    "        dates_text=dates.text\n",
    "        date = re.search('\\d{4}年\\d{1,}月\\d{1,}日', dates_text).group()\n",
    "        if date==input_date:\n",
    "            # format without anything in between the date\n",
    "            date = str(year)+str(month)+str(day)\n",
    "\n",
    "            # Get link and title \n",
    "            news_count=0\n",
    "            for news in news_list:\n",
    "                if date_count==news_count:\n",
    "                    link=news.find_element_by_css_selector('a').get_attribute('href')\n",
    "                    title=news.find_element_by_tag_name('a').text\n",
    "                    # If the title contains \"新発売\", them return 1 as new_product\n",
    "                    new_product_condition='新発売'\n",
    "                    if new_product_condition in title:\n",
    "                        new_product=1\n",
    "                    else:\n",
    "                        new_product=0\n",
    "                    # Append the info to the list\n",
    "                    result.append([date,title,link,new_product])\n",
    "                    break\n",
    "                else:\n",
    "                    news_count+=1\n",
    "            date_count+=1\n",
    "    return result"
   ]
  },
  {
   "cell_type": "markdown",
   "metadata": {},
   "source": [
    "## store info to csv"
   ]
  },
  {
   "cell_type": "code",
   "execution_count": 3,
   "metadata": {},
   "outputs": [],
   "source": [
    "def Nipro_to_csv(result):\n",
    "\n",
    "    # check if the result is empty\n",
    "    result_len = len(result)\n",
    "    if result_len == 0:\n",
    "        return\n",
    "    \n",
    "    # get date for checking their existence later\n",
    "    date=result[0][0]\n",
    "\n",
    "    # get row number\n",
    "    # try to open the csv file\n",
    "    try:\n",
    "        with open('Nipro.csv') as csvfile:\n",
    "            reader = csv.reader(csvfile)\n",
    "            # check if the title we are trying to add is already there    \n",
    "            for row in reader:\n",
    "                # the date is already there, dont add anything\n",
    "                if row[0]==date:\n",
    "                    return print('Already added to csv')\n",
    "    # if there's no such file, create a new file \n",
    "    except FileNotFoundError:\n",
    "        # set the header\n",
    "        with open('Nipro.csv','w') as file:\n",
    "            header=['日付',\n",
    "                    'カテゴリコード',\n",
    "                    'メーカーコード',\n",
    "                    'メーカー名称',\n",
    "                    '新着記事カテゴリ',\n",
    "                    '新着記事タイトル',\n",
    "                    '新着記事URL',\n",
    "                    '新製品記事'\n",
    "                    ]\n",
    "            writer = csv.writer(file)\n",
    "            writer.writerow(header)\n",
    "    \n",
    "    # add new data\n",
    "    with open('Nipro.csv', 'a') as csvfile:\n",
    "        writer = csv.writer(csvfile)\n",
    "        for i in range(result_len):\n",
    "            writer.writerow([result[i][0], \n",
    "                            '', \n",
    "                            '', \n",
    "                            'ニプロ', \n",
    "                            '',\n",
    "                            result[i][1], \n",
    "                            result[i][2], \n",
    "                            result[i][3]])"
   ]
  },
  {
   "cell_type": "markdown",
   "metadata": {},
   "source": [
    "## store info to excel"
   ]
  },
  {
   "cell_type": "code",
   "execution_count": 4,
   "metadata": {},
   "outputs": [],
   "source": [
    "def Nipro_to_excel(result):\n",
    "    # check if the result is empty\n",
    "    result_len = len(result)\n",
    "    if result_len == 0:\n",
    "        return\n",
    "\n",
    "    # get date for checking their existence later\n",
    "    date=result[0][0]\n",
    "\n",
    "    # try to open the workbook\n",
    "    try:\n",
    "        wb = openpyxl.load_workbook('Nipro.xlsx')\n",
    "        ws = wb['Sheet1']\n",
    "        for row in ws.iter_rows(values_only=True):\n",
    "            # the date is already there, dont add anything\n",
    "            if row[0]==date:\n",
    "                return print('Already added to excel')\n",
    "    # if we cannot open it, we create a new one\n",
    "    except FileNotFoundError:\n",
    "        wb = Workbook()\n",
    "        ws = wb.create_sheet('Sheet1')\n",
    "        ws.append(['日付',\n",
    "                'カテゴリコード',\n",
    "                'メーカーコード',\n",
    "                'メーカー名称',\n",
    "                '新着記事カテゴリ',\n",
    "                '新着記事タイトル',\n",
    "                '新着記事URL',\n",
    "                '新製品記事'])\n",
    "\n",
    "\n",
    "    # check the last row in excel\n",
    "    last_row = ws.max_row\n",
    "\n",
    "    # update excel\n",
    "    # can handle up to 3 news on the same day\n",
    "    for i in range(result_len):\n",
    "        ws.cell(row = last_row + i + 1, column = 1, value = result[i][0]) # 日付\n",
    "\n",
    "        # add カテゴリコード、メーカーコード\n",
    "\n",
    "        ws.cell(row = last_row + i + 1, column = 4, value = 'ニプロ') # メーカー名称\n",
    "\n",
    "        # add 新着記事カテゴリ\n",
    "        \n",
    "        ws.cell(row = last_row + i + 1, column = 6, value = result[i][1]) # 新着記事タイトル\n",
    "        ws.cell(row = last_row + i + 1, column = 7, value = result[i][2]) # 新着記事URL\n",
    "        ws.cell(row = last_row + i + 1, column = 8, value = result[i][3]) # 新製品記事\n",
    "\n",
    "    wb.save('Nipro.xlsx')"
   ]
  },
  {
   "cell_type": "code",
   "execution_count": 5,
   "metadata": {
    "tags": []
   },
   "outputs": [
    {
     "output_type": "error",
     "ename": "WebDriverException",
     "evalue": "Message: unknown error: cannot determine loading status\nfrom unknown error: cannot determine loading status\nfrom disconnected: Unable to receive message from renderer\n  (Session info: chrome=85.0.4183.83)\n",
     "traceback": [
      "\u001b[0;31m---------------------------------------------------------------------------\u001b[0m",
      "\u001b[0;31mWebDriverException\u001b[0m                        Traceback (most recent call last)",
      "\u001b[0;32m<ipython-input-5-653e50a6f4bf>\u001b[0m in \u001b[0;36m<module>\u001b[0;34m\u001b[0m\n\u001b[1;32m      3\u001b[0m     \u001b[0mmonth\u001b[0m\u001b[0;34m=\u001b[0m\u001b[0;36m8\u001b[0m\u001b[0;34m\u001b[0m\u001b[0;34m\u001b[0m\u001b[0m\n\u001b[1;32m      4\u001b[0m     \u001b[0mday\u001b[0m\u001b[0;34m=\u001b[0m\u001b[0;36m19\u001b[0m\u001b[0;34m\u001b[0m\u001b[0;34m\u001b[0m\u001b[0m\n\u001b[0;32m----> 5\u001b[0;31m     \u001b[0mresult\u001b[0m\u001b[0;34m=\u001b[0m\u001b[0mNiproScraper\u001b[0m\u001b[0;34m(\u001b[0m\u001b[0myear\u001b[0m\u001b[0;34m,\u001b[0m\u001b[0mmonth\u001b[0m\u001b[0;34m,\u001b[0m\u001b[0mday\u001b[0m\u001b[0;34m)\u001b[0m\u001b[0;34m\u001b[0m\u001b[0;34m\u001b[0m\u001b[0m\n\u001b[0m\u001b[1;32m      6\u001b[0m     \u001b[0mprint\u001b[0m\u001b[0;34m(\u001b[0m\u001b[0mresult\u001b[0m\u001b[0;34m)\u001b[0m\u001b[0;34m\u001b[0m\u001b[0;34m\u001b[0m\u001b[0m\n\u001b[1;32m      7\u001b[0m     \u001b[0mNipro_to_excel\u001b[0m\u001b[0;34m(\u001b[0m\u001b[0mresult\u001b[0m\u001b[0;34m)\u001b[0m\u001b[0;34m\u001b[0m\u001b[0;34m\u001b[0m\u001b[0m\n",
      "\u001b[0;32m<ipython-input-2-0bca5711a4b3>\u001b[0m in \u001b[0;36mNiproScraper\u001b[0;34m(year, month, day)\u001b[0m\n\u001b[1;32m     12\u001b[0m \u001b[0;34m\u001b[0m\u001b[0m\n\u001b[1;32m     13\u001b[0m     \u001b[0;31m# deal with the first \"medical staff?\" question\u001b[0m\u001b[0;34m\u001b[0m\u001b[0;34m\u001b[0m\u001b[0;34m\u001b[0m\u001b[0m\n\u001b[0;32m---> 14\u001b[0;31m     \u001b[0mbrowser\u001b[0m\u001b[0;34m.\u001b[0m\u001b[0mget\u001b[0m\u001b[0;34m(\u001b[0m\u001b[0;34m'http://med.nipro.co.jp/index'\u001b[0m\u001b[0;34m)\u001b[0m\u001b[0;34m\u001b[0m\u001b[0;34m\u001b[0m\u001b[0m\n\u001b[0m\u001b[1;32m     15\u001b[0m     \u001b[0mtimeout\u001b[0m \u001b[0;34m=\u001b[0m \u001b[0;36m10\u001b[0m\u001b[0;34m\u001b[0m\u001b[0;34m\u001b[0m\u001b[0m\n\u001b[1;32m     16\u001b[0m     \u001b[0;32mtry\u001b[0m\u001b[0;34m:\u001b[0m\u001b[0;34m\u001b[0m\u001b[0;34m\u001b[0m\u001b[0m\n",
      "\u001b[0;32m~/opt/anaconda3/lib/python3.7/site-packages/selenium/webdriver/remote/webdriver.py\u001b[0m in \u001b[0;36mget\u001b[0;34m(self, url)\u001b[0m\n\u001b[1;32m    331\u001b[0m         \u001b[0mLoads\u001b[0m \u001b[0ma\u001b[0m \u001b[0mweb\u001b[0m \u001b[0mpage\u001b[0m \u001b[0;32min\u001b[0m \u001b[0mthe\u001b[0m \u001b[0mcurrent\u001b[0m \u001b[0mbrowser\u001b[0m \u001b[0msession\u001b[0m\u001b[0;34m.\u001b[0m\u001b[0;34m\u001b[0m\u001b[0;34m\u001b[0m\u001b[0m\n\u001b[1;32m    332\u001b[0m         \"\"\"\n\u001b[0;32m--> 333\u001b[0;31m         \u001b[0mself\u001b[0m\u001b[0;34m.\u001b[0m\u001b[0mexecute\u001b[0m\u001b[0;34m(\u001b[0m\u001b[0mCommand\u001b[0m\u001b[0;34m.\u001b[0m\u001b[0mGET\u001b[0m\u001b[0;34m,\u001b[0m \u001b[0;34m{\u001b[0m\u001b[0;34m'url'\u001b[0m\u001b[0;34m:\u001b[0m \u001b[0murl\u001b[0m\u001b[0;34m}\u001b[0m\u001b[0;34m)\u001b[0m\u001b[0;34m\u001b[0m\u001b[0;34m\u001b[0m\u001b[0m\n\u001b[0m\u001b[1;32m    334\u001b[0m \u001b[0;34m\u001b[0m\u001b[0m\n\u001b[1;32m    335\u001b[0m     \u001b[0;34m@\u001b[0m\u001b[0mproperty\u001b[0m\u001b[0;34m\u001b[0m\u001b[0;34m\u001b[0m\u001b[0m\n",
      "\u001b[0;32m~/opt/anaconda3/lib/python3.7/site-packages/selenium/webdriver/remote/webdriver.py\u001b[0m in \u001b[0;36mexecute\u001b[0;34m(self, driver_command, params)\u001b[0m\n\u001b[1;32m    319\u001b[0m         \u001b[0mresponse\u001b[0m \u001b[0;34m=\u001b[0m \u001b[0mself\u001b[0m\u001b[0;34m.\u001b[0m\u001b[0mcommand_executor\u001b[0m\u001b[0;34m.\u001b[0m\u001b[0mexecute\u001b[0m\u001b[0;34m(\u001b[0m\u001b[0mdriver_command\u001b[0m\u001b[0;34m,\u001b[0m \u001b[0mparams\u001b[0m\u001b[0;34m)\u001b[0m\u001b[0;34m\u001b[0m\u001b[0;34m\u001b[0m\u001b[0m\n\u001b[1;32m    320\u001b[0m         \u001b[0;32mif\u001b[0m \u001b[0mresponse\u001b[0m\u001b[0;34m:\u001b[0m\u001b[0;34m\u001b[0m\u001b[0;34m\u001b[0m\u001b[0m\n\u001b[0;32m--> 321\u001b[0;31m             \u001b[0mself\u001b[0m\u001b[0;34m.\u001b[0m\u001b[0merror_handler\u001b[0m\u001b[0;34m.\u001b[0m\u001b[0mcheck_response\u001b[0m\u001b[0;34m(\u001b[0m\u001b[0mresponse\u001b[0m\u001b[0;34m)\u001b[0m\u001b[0;34m\u001b[0m\u001b[0;34m\u001b[0m\u001b[0m\n\u001b[0m\u001b[1;32m    322\u001b[0m             response['value'] = self._unwrap_value(\n\u001b[1;32m    323\u001b[0m                 response.get('value', None))\n",
      "\u001b[0;32m~/opt/anaconda3/lib/python3.7/site-packages/selenium/webdriver/remote/errorhandler.py\u001b[0m in \u001b[0;36mcheck_response\u001b[0;34m(self, response)\u001b[0m\n\u001b[1;32m    240\u001b[0m                 \u001b[0malert_text\u001b[0m \u001b[0;34m=\u001b[0m \u001b[0mvalue\u001b[0m\u001b[0;34m[\u001b[0m\u001b[0;34m'alert'\u001b[0m\u001b[0;34m]\u001b[0m\u001b[0;34m.\u001b[0m\u001b[0mget\u001b[0m\u001b[0;34m(\u001b[0m\u001b[0;34m'text'\u001b[0m\u001b[0;34m)\u001b[0m\u001b[0;34m\u001b[0m\u001b[0;34m\u001b[0m\u001b[0m\n\u001b[1;32m    241\u001b[0m             \u001b[0;32mraise\u001b[0m \u001b[0mexception_class\u001b[0m\u001b[0;34m(\u001b[0m\u001b[0mmessage\u001b[0m\u001b[0;34m,\u001b[0m \u001b[0mscreen\u001b[0m\u001b[0;34m,\u001b[0m \u001b[0mstacktrace\u001b[0m\u001b[0;34m,\u001b[0m \u001b[0malert_text\u001b[0m\u001b[0;34m)\u001b[0m\u001b[0;34m\u001b[0m\u001b[0;34m\u001b[0m\u001b[0m\n\u001b[0;32m--> 242\u001b[0;31m         \u001b[0;32mraise\u001b[0m \u001b[0mexception_class\u001b[0m\u001b[0;34m(\u001b[0m\u001b[0mmessage\u001b[0m\u001b[0;34m,\u001b[0m \u001b[0mscreen\u001b[0m\u001b[0;34m,\u001b[0m \u001b[0mstacktrace\u001b[0m\u001b[0;34m)\u001b[0m\u001b[0;34m\u001b[0m\u001b[0;34m\u001b[0m\u001b[0m\n\u001b[0m\u001b[1;32m    243\u001b[0m \u001b[0;34m\u001b[0m\u001b[0m\n\u001b[1;32m    244\u001b[0m     \u001b[0;32mdef\u001b[0m \u001b[0m_value_or_default\u001b[0m\u001b[0;34m(\u001b[0m\u001b[0mself\u001b[0m\u001b[0;34m,\u001b[0m \u001b[0mobj\u001b[0m\u001b[0;34m,\u001b[0m \u001b[0mkey\u001b[0m\u001b[0;34m,\u001b[0m \u001b[0mdefault\u001b[0m\u001b[0;34m)\u001b[0m\u001b[0;34m:\u001b[0m\u001b[0;34m\u001b[0m\u001b[0;34m\u001b[0m\u001b[0m\n",
      "\u001b[0;31mWebDriverException\u001b[0m: Message: unknown error: cannot determine loading status\nfrom unknown error: cannot determine loading status\nfrom disconnected: Unable to receive message from renderer\n  (Session info: chrome=85.0.4183.83)\n"
     ]
    }
   ],
   "source": [
    "if __name__=='__main__':\n",
    "    year=2020\n",
    "    month=8\n",
    "    day=19\n",
    "    result=NiproScraper(year,month,day)\n",
    "    print(result)\n",
    "    Nipro_to_excel(result)\n",
    "    Nipro_to_csv(result)"
   ]
  },
  {
   "cell_type": "code",
   "execution_count": null,
   "metadata": {},
   "outputs": [],
   "source": []
  }
 ]
}