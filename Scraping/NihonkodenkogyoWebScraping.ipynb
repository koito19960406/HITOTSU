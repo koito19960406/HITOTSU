{
 "metadata": {
  "language_info": {
   "codemirror_mode": {
    "name": "ipython",
    "version": 3
   },
   "file_extension": ".py",
   "mimetype": "text/x-python",
   "name": "python",
   "nbconvert_exporter": "python",
   "pygments_lexer": "ipython3",
   "version": "3.7.4-final"
  },
  "orig_nbformat": 2,
  "kernelspec": {
   "name": "python_defaultSpec_1597485617929",
   "display_name": "Python 3.7.4 64-bit ('base': conda)"
  }
 },
 "nbformat": 4,
 "nbformat_minor": 2,
 "cells": [
  {
   "cell_type": "markdown",
   "metadata": {},
   "source": [
    "# Import Libraries"
   ]
  },
  {
   "cell_type": "code",
   "execution_count": 2,
   "metadata": {},
   "outputs": [],
   "source": [
    "from selenium import webdriver\n",
    "from selenium.webdriver.common.by import By\n",
    "from selenium.webdriver.support.ui import WebDriverWait\n",
    "from selenium.webdriver.support import expected_conditions as EC\n",
    "from selenium.common.exceptions import TimeoutException"
   ]
  },
  {
   "cell_type": "markdown",
   "metadata": {},
   "source": [
    "# Create a Function"
   ]
  },
  {
   "cell_type": "code",
   "execution_count": 36,
   "metadata": {},
   "outputs": [],
   "source": [
    "def NikkisoScraper(year,month,day):\n",
    "    # prepare the input date\n",
    "    year=str(year)\n",
    "    if month<10:\n",
    "        month='0'+str(month)\n",
    "    else:\n",
    "        month=str(month)\n",
    "    if day<10:\n",
    "        month='0'+str(day)\n",
    "    else:\n",
    "        day=str(day)\n",
    "    input_date=year+'年'+month+'月'+day+'日'\n",
    "\n",
    "    #open chrome in incognito mode\n",
    "    options = webdriver.ChromeOptions()\n",
    "    options.add_argument(' -- incognito')\n",
    "    browser = webdriver.Chrome(chrome_options=options)\n",
    "\n",
    "    # deal with the first \"medical staff?\" question\n",
    "    browser.get('https://www.nihonkohden.co.jp/iryo/index.html?URL=/iryo/index2.html')\n",
    "    timeout = 10\n",
    "    try:\n",
    "        WebDriverWait(browser, timeout).until(\n",
    "        EC.visibility_of_element_located(\n",
    "        (By.XPATH, '//*[@id=\"pagetop\"]/div[4]/div/div/div/div/div/div/div/div[2]/a[1]')\n",
    "        )\n",
    "        )\n",
    "    except TimeoutException:\n",
    "        print('Timed Out Waiting for page to load')\n",
    "        browser.quit()\n",
    "\n",
    "    # Click the yes button\n",
    "    login_bt=browser.find_element_by_xpath('//*[@id=\"pagetop\"]/div[4]/div/div/div/div/div/div/div/div[2]/a[1]')\n",
    "    login_bt.click()\n",
    "    browser.implicitly_wait(3)\n",
    "\n",
    "    # Get info\n",
    "    # Go to production info section\n",
    "    news_list=browser.find_element_by_class_name('infoset').find_elements_by_css_selector('tr')\n",
    "    # Go through the list\n",
    "    info_list=[]\n",
    "    for news in news_list:\n",
    "        date=news.find_element_by_css_selector('th').text\n",
    "        if date==input_date:\n",
    "            link=news.find_element_by_css_selector('a').get_attribute('href')\n",
    "            title=news.find_element_by_css_selector('a').text\n",
    "            # If the title contains \"新商品\", them return 1 as new_product\n",
    "            new_product_condition='新製品'\n",
    "            if new_product_condition in title:\n",
    "                new_product=1\n",
    "            else:\n",
    "                new_product=0\n",
    "            info_list.append([date,title,link,new_product])\n",
    "    return info_list"
   ]
  },
  {
   "cell_type": "markdown",
   "metadata": {},
   "source": [
    "# Run the Function"
   ]
  },
  {
   "cell_type": "code",
   "execution_count": 38,
   "metadata": {
    "tags": []
   },
   "outputs": [
    {
     "output_type": "stream",
     "name": "stdout",
     "text": "[['2020年07月22日', '新製品：「パルスチェッカー PLS-1100」を掲載しました。', 'https://www.nihonkohden.co.jp/iryo/products/resp_resus/def/pls1100.html', 1]]\n"
    }
   ],
   "source": [
    "if __name__=='__main__':\n",
    "    year=2020\n",
    "    month=7\n",
    "    day=22\n",
    "    result=NikkisoScraper(year,month,day)\n",
    "    print(result)"
   ]
  },
  {
   "cell_type": "code",
   "execution_count": null,
   "metadata": {},
   "outputs": [],
   "source": []
  }
 ]
}