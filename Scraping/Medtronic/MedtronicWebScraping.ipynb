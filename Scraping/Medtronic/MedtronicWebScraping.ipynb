{
 "metadata": {
  "language_info": {
   "codemirror_mode": {
    "name": "ipython",
    "version": 3
   },
   "file_extension": ".py",
   "mimetype": "text/x-python",
   "name": "python",
   "nbconvert_exporter": "python",
   "pygments_lexer": "ipython3",
   "version": "3.7.4-final"
  },
  "orig_nbformat": 2,
  "kernelspec": {
   "name": "python_defaultSpec_1598101029825",
   "display_name": "Python 3.7.4 64-bit ('base': conda)"
  }
 },
 "nbformat": 4,
 "nbformat_minor": 2,
 "cells": [
  {
   "cell_type": "markdown",
   "metadata": {},
   "source": [
    "# Import Libraries"
   ]
  },
  {
   "cell_type": "code",
   "execution_count": 2,
   "metadata": {},
   "outputs": [],
   "source": [
    "from selenium import webdriver\n",
    "from selenium.webdriver.common.by import By\n",
    "from selenium.webdriver.support.ui import WebDriverWait\n",
    "from selenium.webdriver.support import expected_conditions as EC\n",
    "from selenium.common.exceptions import TimeoutException\n",
    "import datetime\n",
    "import csv\n",
    "import openpyxl\n",
    "from openpyxl import Workbook"
   ]
  },
  {
   "cell_type": "markdown",
   "metadata": {},
   "source": [
    "# Create Functions"
   ]
  },
  {
   "cell_type": "markdown",
   "metadata": {},
   "source": [
    "## Scrape info"
   ]
  },
  {
   "cell_type": "code",
   "execution_count": 3,
   "metadata": {},
   "outputs": [],
   "source": [
    "def MedtronicScraper(year,month,day):\n",
    "    #prepare the input date\n",
    "    year=str(year)\n",
    "    month=str(month)\n",
    "    day=str(day)\n",
    "    input_date=year+'/'+month+'/'+day\n",
    "\n",
    "    #open chrome in incognito mode\n",
    "    options = webdriver.ChromeOptions()\n",
    "    options.add_argument(' -- incognito')\n",
    "    browser = webdriver.Chrome(chrome_options=options)\n",
    "\n",
    "    # Go to the website\n",
    "    browser.get('https://www.medtronic.com/jp-ja/about/news.html')\n",
    "\n",
    "    # Get info\n",
    "    # Go to production info section\n",
    "    top_info = browser.find_element_by_xpath('/html/body/div[2]/div[5]/div[3]/section/div[2]/div/ul')\n",
    "    # Go to the list\n",
    "    news_list=top_info.find_elements_by_css_selector('li')\n",
    "    # Go through the list\n",
    "    result=[]\n",
    "    for news in news_list:\n",
    "        date = news.find_element_by_css_selector('p>b').text\n",
    "        # Get URL and title if date == input date\n",
    "        if date==input_date:\n",
    "            # format without anything in between the date\n",
    "            date = str(year)+str(month)+str(day)\n",
    "            # Get link and title\n",
    "            link=news.find_element_by_css_selector('p>a').get_attribute('href')\n",
    "            title=news.find_element_by_tag_name('p').text.split('\\n')[1]\n",
    "            # If the title contains \"販売\"&\"開始\", them return 1 as new_product\n",
    "            new_product_condition_1='販売'\n",
    "            new_product_condition_2='開始'\n",
    "            if (new_product_condition_1 in title)&(new_product_condition_2 in title):\n",
    "                new_product=1\n",
    "            else:\n",
    "                new_product=0\n",
    "            # Append the info to the list\n",
    "            result.append([date,title,link,new_product])\n",
    "    return result"
   ]
  },
  {
   "cell_type": "markdown",
   "metadata": {},
   "source": [
    "## Store info to CSV"
   ]
  },
  {
   "cell_type": "code",
   "execution_count": 4,
   "metadata": {},
   "outputs": [],
   "source": [
    "def Medtronic_to_csv(result):\n",
    "\n",
    "    # check if the result is empty\n",
    "    result_len = len(result)\n",
    "    if result_len == 0:\n",
    "        return\n",
    "    \n",
    "    # get date for checking their existence later\n",
    "    date=result[0][0]\n",
    "\n",
    "    # get row number\n",
    "    # try to open the csv file\n",
    "    try:\n",
    "        with open('Medtronic.csv') as csvfile:\n",
    "            reader = csv.reader(csvfile)\n",
    "            # check if the title we are trying to add is already there    \n",
    "            for row in reader:\n",
    "                # the date is already there, dont add anything\n",
    "                if row[0]==date:\n",
    "                    return print('Already added to csv')\n",
    "    # if there's no such file, create a new file \n",
    "    except FileNotFoundError:\n",
    "        # set the header\n",
    "        with open('Medtronic.csv','w') as file:\n",
    "            header=['日付',\n",
    "                    'カテゴリコード',\n",
    "                    'メーカーコード',\n",
    "                    'メーカー名称',\n",
    "                    '新着記事カテゴリ',\n",
    "                    '新着記事タイトル',\n",
    "                    '新着記事URL',\n",
    "                    '新製品記事'\n",
    "                    ]\n",
    "            writer = csv.writer(file)\n",
    "            writer.writerow(header)\n",
    "    \n",
    "    # add new data\n",
    "    with open('Medtronic.csv', 'a') as csvfile:\n",
    "        writer = csv.writer(csvfile)\n",
    "        for i in range(result_len):\n",
    "            writer.writerow([result[i][0], \n",
    "                            '', \n",
    "                            '', \n",
    "                            '日本メドトロニック', \n",
    "                            '',\n",
    "                            result[i][1], \n",
    "                            result[i][2], \n",
    "                            result[i][3]])"
   ]
  },
  {
   "cell_type": "markdown",
   "metadata": {},
   "source": [
    "## Store info to excel"
   ]
  },
  {
   "cell_type": "code",
   "execution_count": 5,
   "metadata": {},
   "outputs": [],
   "source": [
    "def Medtronic_to_excel(result):\n",
    "    # check if the result is empty\n",
    "    result_len = len(result)\n",
    "    if result_len == 0:\n",
    "        return\n",
    "\n",
    "    # get date for checking their existence later\n",
    "    date=result[0][0]\n",
    "\n",
    "    # try to open the workbook\n",
    "    try:\n",
    "        wb = openpyxl.load_workbook('Medtronic.xlsx')\n",
    "        ws = wb['Sheet1']\n",
    "        for row in ws.iter_rows(values_only=True):\n",
    "            # the date is already there, dont add anything\n",
    "            if row[0]==date:\n",
    "                return print('Already added to excel')\n",
    "    # if we cannot open it, we create a new one\n",
    "    except FileNotFoundError:\n",
    "        wb = Workbook()\n",
    "        ws = wb.create_sheet('Sheet1')\n",
    "        ws.append(['日付',\n",
    "                'カテゴリコード',\n",
    "                'メーカーコード',\n",
    "                'メーカー名称',\n",
    "                '新着記事カテゴリ',\n",
    "                '新着記事タイトル',\n",
    "                '新着記事URL',\n",
    "                '新製品記事'])\n",
    "\n",
    "\n",
    "    # check the last row in excel\n",
    "    last_row = ws.max_row\n",
    "\n",
    "    # update excel\n",
    "    # can handle up to 3 news on the same day\n",
    "    for i in range(result_len):\n",
    "        ws.cell(row = last_row + i + 1, column = 1, value = result[i][0]) # 日付\n",
    "        # add カテゴリコード、メーカーコード\n",
    "        ws.cell(row = last_row + i + 1, column = 4, value = '日本メドトロニック') # メーカー名称\n",
    "        # add 新着記事カテゴリ\n",
    "        ws.cell(row = last_row + i + 1, column = 6, value = result[i][1]) # 新着記事タイトル\n",
    "        ws.cell(row = last_row + i + 1, column = 7, value = result[i][2]) # 新着記事URL\n",
    "        ws.cell(row = last_row + i + 1, column = 8, value = result[i][3]) # 新製品記事\n",
    "\n",
    "    wb.save('Medtronic.xlsx')"
   ]
  },
  {
   "cell_type": "code",
   "execution_count": 7,
   "metadata": {
    "tags": []
   },
   "outputs": [
    {
     "output_type": "stream",
     "name": "stdout",
     "text": "[['2020610', '日本メドトロニック\\u3000脊髄誘発電位測定等加算に関する診療報酬改定により、 術中神経モニタリング装置「NIM™システム3.0」の保険適用が拡大【詳細】', 'https://www.medtronic.com/jp-ja/about/news/pressrelease/2020-6-10.html', 0]]\nAlready added to csv\nAlready added to excel\n"
    }
   ],
   "source": [
    "if __name__=='__main__':\n",
    "    year=2020\n",
    "    month=6\n",
    "    day=10\n",
    "    result=MedtronicScraper(year,month,day)\n",
    "    print(result)\n",
    "    Medtronic_to_csv(result)\n",
    "    Medtronic_to_excel(result)"
   ]
  },
  {
   "cell_type": "code",
   "execution_count": null,
   "metadata": {},
   "outputs": [],
   "source": []
  }
 ]
}