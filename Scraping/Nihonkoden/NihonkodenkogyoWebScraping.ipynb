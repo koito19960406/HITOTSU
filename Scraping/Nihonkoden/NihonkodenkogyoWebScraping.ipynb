{
 "metadata": {
  "language_info": {
   "codemirror_mode": {
    "name": "ipython",
    "version": 3
   },
   "file_extension": ".py",
   "mimetype": "text/x-python",
   "name": "python",
   "nbconvert_exporter": "python",
   "pygments_lexer": "ipython3",
   "version": "3.7.4-final"
  },
  "orig_nbformat": 2,
  "kernelspec": {
   "name": "python_defaultSpec_1598079977074",
   "display_name": "Python 3.7.4 64-bit ('base': conda)"
  }
 },
 "nbformat": 4,
 "nbformat_minor": 2,
 "cells": [
  {
   "cell_type": "markdown",
   "metadata": {},
   "source": [
    "# Import Libraries"
   ]
  },
  {
   "cell_type": "code",
   "execution_count": 3,
   "metadata": {},
   "outputs": [],
   "source": [
    "from selenium import webdriver\n",
    "from selenium.webdriver.common.by import By\n",
    "from selenium.webdriver.support.ui import WebDriverWait\n",
    "from selenium.webdriver.support import expected_conditions as EC\n",
    "from selenium.common.exceptions import TimeoutException\n",
    "import datetime\n",
    "import csv\n",
    "import openpyxl\n",
    "from openpyxl import Workbook"
   ]
  },
  {
   "cell_type": "markdown",
   "metadata": {},
   "source": [
    "# Create Functions"
   ]
  },
  {
   "cell_type": "markdown",
   "metadata": {},
   "source": [
    "## Scrape info"
   ]
  },
  {
   "cell_type": "code",
   "execution_count": 1,
   "metadata": {},
   "outputs": [],
   "source": [
    "def NihonkodenScraper(year,month,day):\n",
    "    # prepare the input date\n",
    "    year=str(year)\n",
    "    if month<10:\n",
    "        month='0'+str(month)\n",
    "    else:\n",
    "        month=str(month)\n",
    "    if day<10:\n",
    "        day='0'+str(day)\n",
    "    else:\n",
    "        day=str(day)\n",
    "    input_date=year+'年'+month+'月'+day+'日'\n",
    "\n",
    "    #open chrome in incognito mode\n",
    "    options = webdriver.ChromeOptions()\n",
    "    options.add_argument(' -- incognito')\n",
    "    browser = webdriver.Chrome(chrome_options=options)\n",
    "\n",
    "    # deal with the first \"medical staff?\" question\n",
    "    browser.get('https://www.nihonkohden.co.jp/iryo/index.html?URL=/iryo/index2.html')\n",
    "    timeout = 10\n",
    "    try:\n",
    "        WebDriverWait(browser, timeout).until(\n",
    "        EC.visibility_of_element_located(\n",
    "        (By.XPATH, '//*[@id=\"pagetop\"]/div[4]/div/div/div/div/div/div/div/div[2]/a[1]')\n",
    "        )\n",
    "        )\n",
    "    except TimeoutException:\n",
    "        print('Timed Out Waiting for page to load')\n",
    "        browser.quit()\n",
    "\n",
    "    # Click the yes button\n",
    "    login_bt=browser.find_element_by_xpath('//*[@id=\"pagetop\"]/div[4]/div/div/div/div/div/div/div/div[2]/a[1]')\n",
    "    login_bt.click()\n",
    "    browser.implicitly_wait(3)\n",
    "\n",
    "    # Get info\n",
    "    # Go to production info section\n",
    "    news_list=browser.find_element_by_class_name('infoset').find_elements_by_css_selector('tr')\n",
    "    # Go through the list\n",
    "    result=[]\n",
    "    for news in news_list:\n",
    "        date=news.find_element_by_css_selector('th').text\n",
    "        if date==input_date:\n",
    "            # format without anything in between the\n",
    "            date = str(year)+str(month)+str(day)\n",
    "            link=news.find_element_by_css_selector('a').get_attribute('href')\n",
    "            title=news.find_element_by_css_selector('a').text\n",
    "            # If the title contains \"新商品\", them return 1 as new_product\n",
    "            new_product_condition='新製品'\n",
    "            if new_product_condition in title:\n",
    "                new_product=1\n",
    "            else:\n",
    "                new_product=0\n",
    "            result.append([date,title,link,new_product])\n",
    "    return result"
   ]
  },
  {
   "cell_type": "markdown",
   "metadata": {},
   "source": [
    "## Store info to CSV"
   ]
  },
  {
   "cell_type": "code",
   "execution_count": 13,
   "metadata": {},
   "outputs": [],
   "source": [
    "def Nihonkoden_to_csv(result):\n",
    "\n",
    "    # check if the result is empty\n",
    "    result_len = len(result)\n",
    "    if result_len == 0:\n",
    "        return\n",
    "    \n",
    "    # get date for checking their existence later\n",
    "    date=result[0][0]\n",
    "\n",
    "    # get row number\n",
    "    # try to open the csv file\n",
    "    try:\n",
    "        with open('Nihonkoden.csv') as csvfile:\n",
    "            reader = csv.reader(csvfile)\n",
    "            # check if the title we are trying to add is already there    \n",
    "            for row in reader:\n",
    "                # the date is already there, dont add anything\n",
    "                if row[0]==date:\n",
    "                    return print('Already added to csv')\n",
    "    # if there's no such file, create a new file \n",
    "    except FileNotFoundError:\n",
    "        # set the header\n",
    "        with open('Nihonkoden.csv','w') as file:\n",
    "            header=['日付',\n",
    "                    'カテゴリコード',\n",
    "                    'メーカーコード',\n",
    "                    'メーカー名称',\n",
    "                    '新着記事カテゴリ',\n",
    "                    '新着記事タイトル',\n",
    "                    '新着記事URL',\n",
    "                    '新製品記事'\n",
    "                    ]\n",
    "            writer = csv.writer(file)\n",
    "            writer.writerow(header)\n",
    "    \n",
    "    # add new data\n",
    "    with open('Nihonkoden.csv', 'a') as csvfile:\n",
    "        writer = csv.writer(csvfile)\n",
    "        for i in range(result_len):\n",
    "            writer.writerow([result[i][0], \n",
    "                            '', \n",
    "                            '', \n",
    "                            '日本光電工業', \n",
    "                            '',\n",
    "                            result[i][1], \n",
    "                            result[i][2], \n",
    "                            result[i][3]])"
   ]
  },
  {
   "cell_type": "markdown",
   "metadata": {},
   "source": [
    "## Store info to excel"
   ]
  },
  {
   "cell_type": "code",
   "execution_count": 11,
   "metadata": {},
   "outputs": [],
   "source": [
    "def Nihonkoden_to_excel(result):\n",
    "    # check if the result is empty\n",
    "    result_len = len(result)\n",
    "    if result_len == 0:\n",
    "        return\n",
    "\n",
    "    # get date for checking their existence later\n",
    "    date=result[0][0]\n",
    "\n",
    "    # try to open the workbook\n",
    "    try:\n",
    "        wb = openpyxl.load_workbook('Nihonkoden.xlsx')\n",
    "        ws = wb['Sheet1']\n",
    "        for row in ws.iter_rows(values_only=True):\n",
    "            # the date is already there, dont add anything\n",
    "            if row[0]==date:\n",
    "                return print('Already added to excel')\n",
    "    # if we cannot open it, we create a new one\n",
    "    except FileNotFoundError:\n",
    "        wb = Workbook()\n",
    "        ws = wb.create_sheet('Sheet1')\n",
    "        ws.append(['日付',\n",
    "                'カテゴリコード',\n",
    "                'メーカーコード',\n",
    "                'メーカー名称',\n",
    "                '新着記事カテゴリ',\n",
    "                '新着記事タイトル',\n",
    "                '新着記事URL',\n",
    "                '新製品記事'])\n",
    "\n",
    "\n",
    "    # check the last row in excel\n",
    "    last_row = ws.max_row\n",
    "\n",
    "    # update excel\n",
    "    # can handle up to 3 news on the same day\n",
    "    for i in range(result_len):\n",
    "        ws.cell(row = last_row + i + 1, column = 1, value = result[i][0]) # 日付\n",
    "        # add カテゴリコード、メーカーコード\n",
    "        ws.cell(row = last_row + i + 1, column = 4, value = '日本光電工業') # メーカー名称\n",
    "        # add 新着記事カテゴリ\n",
    "        ws.cell(row = last_row + i + 1, column = 6, value = result[i][1]) # 新着記事タイトル\n",
    "        ws.cell(row = last_row + i + 1, column = 7, value = result[i][2]) # 新着記事URL\n",
    "        ws.cell(row = last_row + i + 1, column = 8, value = result[i][3]) # 新製品記事\n",
    "\n",
    "    wb.save('Nihonkoden.xlsx')"
   ]
  },
  {
   "cell_type": "markdown",
   "metadata": {},
   "source": [
    "# Run the Function"
   ]
  },
  {
   "cell_type": "code",
   "execution_count": 15,
   "metadata": {
    "tags": []
   },
   "outputs": [
    {
     "output_type": "stream",
     "name": "stdout",
     "text": "[['20200813', 'ME講習会\\u30002020年9月以降の新スケジュールを公開しました。', 'https://www.nihonkohden.co.jp/iryo/training/index.html', 0]]\n"
    }
   ],
   "source": [
    "if __name__=='__main__':\n",
    "    year=2020\n",
    "    month=8\n",
    "    day=13\n",
    "    result=NihonkodenScraper(year,month,day)\n",
    "    print(result)\n",
    "    Nihonkoden_to_excel(result)\n",
    "    Nihonkoden_to_csv(result)"
   ]
  },
  {
   "cell_type": "code",
   "execution_count": null,
   "metadata": {},
   "outputs": [],
   "source": []
  }
 ]
}