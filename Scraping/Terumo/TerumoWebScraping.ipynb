{
 "metadata": {
  "language_info": {
   "codemirror_mode": {
    "name": "ipython",
    "version": 3
   },
   "file_extension": ".py",
   "mimetype": "text/x-python",
   "name": "python",
   "nbconvert_exporter": "python",
   "pygments_lexer": "ipython3",
   "version": 3
  },
  "orig_nbformat": 2,
  "kernelspec": {
   "name": "python_defaultSpec_1597115974643",
   "display_name": "Python 3.7.4 64-bit ('base': conda)"
  }
 },
 "nbformat": 4,
 "nbformat_minor": 2,
 "cells": [
  {
   "cell_type": "markdown",
   "metadata": {},
   "source": [
    "# Import Libraries \n",
    "Use requests + beautifulsoup"
   ]
  },
  {
   "cell_type": "code",
   "execution_count": 5,
   "metadata": {},
   "outputs": [],
   "source": [
    "import requests\n",
    "import csv\n",
    "from bs4 import BeautifulSoup"
   ]
  },
  {
   "cell_type": "markdown",
   "metadata": {},
   "source": [
    "# create a function"
   ]
  },
  {
   "cell_type": "code",
   "execution_count": 33,
   "metadata": {
    "tags": []
   },
   "outputs": [],
   "source": [
    "def scrapeTerumo(year,month,day):\n",
    "    year=str(year)\n",
    "    if month<10:\n",
    "        month='0'+str(month)\n",
    "    else:\n",
    "        month=str(month)\n",
    "    if day<10:\n",
    "        month='0'+str(day)\n",
    "    else:\n",
    "        day=str(day)\n",
    "    input_date=year+'年'+month+'月'+day+'日'\n",
    "    # check if the URL is working\n",
    "    url = 'https://www.terumo.co.jp/medical/news/equipment.html'\n",
    "    result = requests.get(url)\n",
    "    if result.status_code == 200:\n",
    "        src=result.content\n",
    "        soup=BeautifulSoup(src,\"lxml\")\n",
    "        # get a list of news\n",
    "        rows=soup.find('ul',attrs={'class':'newsList'}).find_all('li')\n",
    "        # with open(input_date+company_name+'.csv','w') as file:\n",
    "            # fieldnames=['日付','新着記事タイトル','新着記事URL']\n",
    "            # writer=csv.DictWriter(file,fieldnames=fieldnames)\n",
    "            # writer.writeheader()\n",
    "            # goes through the list of news to get date, title, and URL\n",
    "        news_list=[]\n",
    "        for row in rows:\n",
    "            date=row.find('dt').text.strip()\n",
    "            # if the date matches the input date, store info in CSV\n",
    "            if date==input_date:\n",
    "                news_url=row.find('a').get('href')\n",
    "                title=row.find('a').text.strip()\n",
    "                news_list.append([date,title,news_url])\n",
    "                # writer.writerow({\n",
    "                # '日付':date,\n",
    "                # '新着記事タイトル':title,\n",
    "                # '新着記事URL':news_url\n",
    "                # })\n",
    "        return news_list"
   ]
  },
  {
   "cell_type": "markdown",
   "metadata": {},
   "source": [
    "# Main Part"
   ]
  },
  {
   "cell_type": "code",
   "execution_count": 35,
   "metadata": {
    "tags": []
   },
   "outputs": [
    {
     "output_type": "stream",
     "name": "stdout",
     "text": "[['2020年07月31日', 'ゴージョーMHS 60mL、215mL、350mL\\u3000代替品追加のお願い（1.0 MB）', 'https://www.terumo.co.jp/medical/news/upload_files/20T203.pdf']]\n"
    }
   ],
   "source": [
    "if __name__=='__main__':\n",
    "    year=2020\n",
    "    month=7\n",
    "    day=31\n",
    "    list=scrapeTerumo(year,month,day)\n",
    "    print(list)"
   ]
  },
  {
   "cell_type": "code",
   "execution_count": null,
   "metadata": {},
   "outputs": [],
   "source": []
  }
 ]
}