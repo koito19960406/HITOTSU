{
 "metadata": {
  "language_info": {
   "codemirror_mode": {
    "name": "ipython",
    "version": 3
   },
   "file_extension": ".py",
   "mimetype": "text/x-python",
   "name": "python",
   "nbconvert_exporter": "python",
   "pygments_lexer": "ipython3",
   "version": "3.7.4-final"
  },
  "orig_nbformat": 2,
  "kernelspec": {
   "name": "python_defaultSpec_1597635159738",
   "display_name": "Python 3.7.4 64-bit ('base': conda)"
  }
 },
 "nbformat": 4,
 "nbformat_minor": 2,
 "cells": [
  {
   "cell_type": "markdown",
   "metadata": {},
   "source": [
    "# Import Libraries"
   ]
  },
  {
   "cell_type": "code",
   "execution_count": 11,
   "metadata": {},
   "outputs": [],
   "source": [
    "from selenium import webdriver\n",
    "from selenium.webdriver.common.by import By\n",
    "from selenium.webdriver.support.ui import WebDriverWait\n",
    "from selenium.webdriver.support import expected_conditions as EC\n",
    "from selenium.common.exceptions import TimeoutException\n",
    "import datetime\n",
    "import csv"
   ]
  },
  {
   "cell_type": "markdown",
   "metadata": {},
   "source": [
    "# Create Functions"
   ]
  },
  {
   "cell_type": "markdown",
   "metadata": {},
   "source": [
    "## Scrape info"
   ]
  },
  {
   "cell_type": "code",
   "execution_count": 6,
   "metadata": {},
   "outputs": [],
   "source": [
    "def NikkisoScraper(year,month,day):\n",
    "    # prepare the input date\n",
    "    year=str(year)[2:]\n",
    "    if month<10:\n",
    "        month='0'+str(month)\n",
    "    else:\n",
    "        month=str(month)\n",
    "    if day<10:\n",
    "        month='0'+str(day)\n",
    "    else:\n",
    "        day=str(day)\n",
    "    input_date=year+'年'+month+'月'+day+'日'\n",
    "\n",
    "    #open chrome in incognito mode\n",
    "    options = webdriver.ChromeOptions()\n",
    "    options.add_argument(' -- incognito')\n",
    "    browser = webdriver.Chrome(chrome_options=options)\n",
    "\n",
    "    # deal with the first \"medical staff?\" question\n",
    "    browser.get('https://webmedical.nikkiso.co.jp/')\n",
    "\n",
    "    # wait for browser to open for 10 sec\n",
    "    timeout = 10\n",
    "    try:\n",
    "        WebDriverWait(browser, timeout).until(\n",
    "        EC.visibility_of_element_located(\n",
    "        (By.XPATH, '//*[@id=\"checker_box\"]/div/div/ul/li[1]/a')\n",
    "        )\n",
    "        )\n",
    "    except TimeoutException:\n",
    "        print('Timed Out Waiting for page to load')\n",
    "        browser.quit()\n",
    "\n",
    "    # Click the yes button\n",
    "    login_bt=browser.find_element_by_xpath('//*[@id=\"checker_box\"]/div/div/ul/li[1]/a')\n",
    "    login_bt.click()\n",
    "    browser.implicitly_wait(3)\n",
    "\n",
    "    # Get info\n",
    "    # Go to production info section\n",
    "    top_info = browser.find_element_by_id('topInfo')\n",
    "    # Go to the list\n",
    "    news_list=top_info.find_elements_by_css_selector('li')\n",
    "    # Go through the list\n",
    "    result=[]\n",
    "    for news in news_list:\n",
    "        date = news.find_elements_by_css_selector('p.date')[0].text.split('\\n')[0]\n",
    "        # Get URL and title if date == input date\n",
    "        if date==input_date:\n",
    "            # Get link and title\n",
    "            link=news.find_element_by_css_selector('p>a').get_attribute('href')\n",
    "            title=news.find_element_by_css_selector('p>a').text\n",
    "            product_info=news.find_element_by_css_selector('p>span.tag').text\n",
    "            # Check if it's info about new products\n",
    "            if product_info=='製品情報':\n",
    "                new_product=1\n",
    "            else:\n",
    "                new_product=0\n",
    "            # Append the info to the list\n",
    "            result.append([date,title,link,new_product])\n",
    "    return result\n"
   ]
  },
  {
   "cell_type": "markdown",
   "metadata": {},
   "source": [
    "## Store info to CSV"
   ]
  },
  {
   "cell_type": "code",
   "execution_count": 15,
   "metadata": {},
   "outputs": [],
   "source": [
    "def Nikkiso_to_csv(result):\n",
    "\n",
    "    # check if the result is empty\n",
    "    result_len = len(result)\n",
    "    if result_len == 0:\n",
    "        return\n",
    "    \n",
    "    # get date for checking their existence later\n",
    "    date=str(result[0][0])\n",
    "\n",
    "    # get row number\n",
    "    # try to open the csv file\n",
    "    try:\n",
    "        with open('Nikkiso.csv') as csvfile:\n",
    "            reader = csv.reader(csvfile)\n",
    "            # check if the title we are trying to add is already there    \n",
    "            for row in reader:\n",
    "                # the date is already there, dont add anything\n",
    "                if row[0]==date:\n",
    "                    return print('Already added')\n",
    "    # if there's no such file, create a new file \n",
    "    except FileNotFoundError:\n",
    "        # set the header\n",
    "        with open('Nikkiso.csv','w') as file:\n",
    "            header=['日付',\n",
    "                    'カテゴリコード',\n",
    "                    'メーカーコード',\n",
    "                    'メーカー名称',\n",
    "                    '新着記事カテゴリ',\n",
    "                    '新着記事タイトル',\n",
    "                    '新着記事URL',\n",
    "                    '新製品記事'\n",
    "                    ]\n",
    "            writer = csv.writer(file)\n",
    "            writer.writerow(header)\n",
    "    \n",
    "    # add new data\n",
    "    with open('Nikkiso.csv', 'a') as csvfile:\n",
    "        writer = csv.writer(csvfile)\n",
    "        for i in range(result_len):\n",
    "            writer.writerow([result[i][0], \n",
    "                            '', \n",
    "                            '', \n",
    "                            '日機装', \n",
    "                            '',\n",
    "                            result[i][1], \n",
    "                            result[i][2], \n",
    "                            result[i][3]])"
   ]
  },
  {
   "cell_type": "markdown",
   "metadata": {},
   "source": [
    "# Run the Function"
   ]
  },
  {
   "cell_type": "code",
   "execution_count": 17,
   "metadata": {
    "tags": []
   },
   "outputs": [
    {
     "output_type": "stream",
     "name": "stdout",
     "text": "[['19年09月25日', 'Siシリーズ販売開始！', 'https://webmedical.nikkiso.co.jp/productinfo/si%e3%82%b7%e3%83%aa%e3%83%bc%e3%82%ba%e8%b2%a9%e5%a3%b2%e9%96%8b%e5%a7%8b%ef%bc%81', 1]]\nAlready added\n"
    }
   ],
   "source": [
    "if __name__=='__main__':\n",
    "    year=2019\n",
    "    month=9\n",
    "    day=25\n",
    "    result=NikkisoScraper(year,month,day)\n",
    "    print(result)\n",
    "    Nikkiso_to_csv(result)"
   ]
  },
  {
   "cell_type": "code",
   "execution_count": null,
   "metadata": {},
   "outputs": [],
   "source": []
  }
 ]
}