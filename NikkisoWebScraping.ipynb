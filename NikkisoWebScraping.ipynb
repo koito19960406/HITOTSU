{
 "metadata": {
  "language_info": {
   "codemirror_mode": {
    "name": "ipython",
    "version": 3
   },
   "file_extension": ".py",
   "mimetype": "text/x-python",
   "name": "python",
   "nbconvert_exporter": "python",
   "pygments_lexer": "ipython3",
   "version": "3.7.4-final"
  },
  "orig_nbformat": 2,
  "kernelspec": {
   "name": "python_defaultSpec_1597635159738",
   "display_name": "Python 3.7.4 64-bit ('base': conda)"
  }
 },
 "nbformat": 4,
 "nbformat_minor": 2,
 "cells": [
  {
   "cell_type": "markdown",
   "metadata": {},
   "source": [
    "# Import Libraries"
   ]
  },
  {
   "cell_type": "code",
   "execution_count": 1,
   "metadata": {},
   "outputs": [],
   "source": [
    "from selenium import webdriver\n",
    "from selenium.webdriver.common.by import By\n",
    "from selenium.webdriver.support.ui import WebDriverWait\n",
    "from selenium.webdriver.support import expected_conditions as EC\n",
    "from selenium.common.exceptions import TimeoutException"
   ]
  },
  {
   "cell_type": "markdown",
   "metadata": {},
   "source": [
    "# Create a Function"
   ]
  },
  {
   "cell_type": "code",
   "execution_count": 6,
   "metadata": {},
   "outputs": [],
   "source": [
    "def NikkisoScraper(year,month,day):\n",
    "    # prepare the input date\n",
    "    year=str(year)[2:]\n",
    "    if month<10:\n",
    "        month='0'+str(month)\n",
    "    else:\n",
    "        month=str(month)\n",
    "    if day<10:\n",
    "        month='0'+str(day)\n",
    "    else:\n",
    "        day=str(day)\n",
    "    input_date=year+'年'+month+'月'+day+'日'\n",
    "\n",
    "    #open chrome in incognito mode\n",
    "    options = webdriver.ChromeOptions()\n",
    "    options.add_argument(' -- incognito')\n",
    "    browser = webdriver.Chrome(chrome_options=options)\n",
    "\n",
    "    # deal with the first \"medical staff?\" question\n",
    "    browser.get('https://webmedical.nikkiso.co.jp/')\n",
    "\n",
    "    # wait for browser to open for 10 sec\n",
    "    timeout = 10\n",
    "    try:\n",
    "        WebDriverWait(browser, timeout).until(\n",
    "        EC.visibility_of_element_located(\n",
    "        (By.XPATH, '//*[@id=\"checker_box\"]/div/div/ul/li[1]/a')\n",
    "        )\n",
    "        )\n",
    "    except TimeoutException:\n",
    "        print('Timed Out Waiting for page to load')\n",
    "        browser.quit()\n",
    "\n",
    "    # Click the yes button\n",
    "    login_bt=browser.find_element_by_xpath('//*[@id=\"checker_box\"]/div/div/ul/li[1]/a')\n",
    "    login_bt.click()\n",
    "    browser.implicitly_wait(3)\n",
    "\n",
    "    # Get info\n",
    "    # Go to production info section\n",
    "    top_info = browser.find_element_by_id('topInfo')\n",
    "    # Go to the list\n",
    "    news_list=top_info.find_elements_by_css_selector('li')\n",
    "    # Go through the list\n",
    "    info_list=[]\n",
    "    for news in news_list:\n",
    "        date = news.find_elements_by_css_selector('p.date')[0].text.split('\\n')[0]\n",
    "        # Get URL and title if date == input date\n",
    "        if date==input_date:\n",
    "            # Get link and title\n",
    "            link=news.find_element_by_css_selector('p>a').get_attribute('href')\n",
    "            title=news.find_element_by_css_selector('p>a').text\n",
    "            product_info=news.find_element_by_css_selector('p>span.tag').text\n",
    "            # Check if it's info about new products\n",
    "            if product_info=='製品情報':\n",
    "                new_product=1\n",
    "            else:\n",
    "                new_product=0\n",
    "            # Append the info to the list\n",
    "            info_list.append([date,title,link,new_product])\n",
    "    return info_list\n"
   ]
  },
  {
   "cell_type": "markdown",
   "metadata": {},
   "source": [
    "# Run the Function"
   ]
  },
  {
   "cell_type": "code",
   "execution_count": 7,
   "metadata": {
    "tags": []
   },
   "outputs": [
    {
     "output_type": "stream",
     "name": "stdout",
     "text": "[['19年09月25日', 'Siシリーズ販売開始！', 'https://webmedical.nikkiso.co.jp/productinfo/si%e3%82%b7%e3%83%aa%e3%83%bc%e3%82%ba%e8%b2%a9%e5%a3%b2%e9%96%8b%e5%a7%8b%ef%bc%81', 1]]\n"
    }
   ],
   "source": [
    "if __name__=='__main__':\n",
    "    year=2019\n",
    "    month=9\n",
    "    day=25\n",
    "    result=NikkisoScraper(year,month,day)\n",
    "    print(result)"
   ]
  },
  {
   "cell_type": "code",
   "execution_count": null,
   "metadata": {},
   "outputs": [],
   "source": []
  }
 ]
}